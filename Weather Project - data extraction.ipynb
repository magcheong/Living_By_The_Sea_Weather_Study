{
 "cells": [
  {
   "cell_type": "markdown",
   "metadata": {},
   "source": [
    "## Import library"
   ]
  },
  {
   "cell_type": "code",
   "execution_count": 25,
   "metadata": {},
   "outputs": [],
   "source": [
    "from datetime import timedelta, date\n",
    "import requests\n",
    "import json\n",
    "import pandas as pd"
   ]
  },
  {
   "cell_type": "markdown",
   "metadata": {},
   "source": [
    "##  Date list generation"
   ]
  },
  {
   "cell_type": "code",
   "execution_count": 26,
   "metadata": {},
   "outputs": [],
   "source": [
    "def date_gen(start_date, end_date):\n",
    "    for i in range((end_date - start_date).days +1):\n",
    "        yield start_date + timedelta(i)\n",
    "        \n",
    "def date_lst_gen(first_date, last_date):\n",
    "    \n",
    "    date_lst = []\n",
    "    for j in date_gen(first_date, last_date):\n",
    "        date_lst.append(j.strftime(\"%Y-%m-%d\"))\n",
    "    return date_lst\n"
   ]
  },
  {
   "cell_type": "markdown",
   "metadata": {},
   "source": [
    "## Input start and end dates"
   ]
  },
  {
   "cell_type": "code",
   "execution_count": 23,
   "metadata": {},
   "outputs": [
    {
     "name": "stdout",
     "output_type": "stream",
     "text": [
      "Start yr: 2017\n",
      "Start mth: 11\n",
      "Start day: 8\n",
      "End yr: 2017\n",
      "End mth: 11\n",
      "End day: 8\n"
     ]
    },
    {
     "data": {
      "text/plain": [
       "['2017-11-08']"
      ]
     },
     "execution_count": 23,
     "metadata": {},
     "output_type": "execute_result"
    }
   ],
   "source": [
    "yr_in = input(\"Start yr: \")\n",
    "mth_in = input(\"Start mth: \")\n",
    "day_in = input(\"Start day: \")\n",
    "yr_out = input(\"End yr: \")\n",
    "mth_out = input(\"End mth: \")\n",
    "day_out = input(\"End day: \")\n",
    "\n",
    "first_date = date(int(yr_in), int(mth_in), int(day_in))\n",
    "last_date = date(int(yr_out), int(mth_out), int(day_out))\n",
    "date_lst_gen(first_date, last_date)"
   ]
  },
  {
   "cell_type": "markdown",
   "metadata": {},
   "source": [
    "## Hourly time list generation\n"
   ]
  },
  {
   "cell_type": "code",
   "execution_count": 6,
   "metadata": {
    "scrolled": true
   },
   "outputs": [
    {
     "name": "stdout",
     "output_type": "stream",
     "text": [
      "['T00:01', 'T01:01', 'T02:01', 'T03:01', 'T04:01', 'T05:01', 'T06:01', 'T07:01', 'T08:01', 'T09:01', 'T10:01', 'T11:01', 'T12:01', 'T13:01', 'T14:01', 'T15:01', 'T16:01', 'T17:01', 'T18:01', 'T19:01', 'T20:01', 'T21:01', 'T22:01', 'T23:01']\n"
     ]
    }
   ],
   "source": [
    "time_lst = [\"T0\"+str(x)+\":01\" for x in range(10)] + [\"T\"+str(x)+\":01\" for x in range(10,24)]\n",
    "\n",
    "print(time_lst)"
   ]
  },
  {
   "cell_type": "markdown",
   "metadata": {},
   "source": [
    "## Define data extraction functions"
   ]
  },
  {
   "cell_type": "markdown",
   "metadata": {},
   "source": [
    "### Get data from URL"
   ]
  },
  {
   "cell_type": "code",
   "execution_count": 7,
   "metadata": {},
   "outputs": [],
   "source": [
    "def get_data(url, date_lst):\n",
    "\n",
    "    hr_data_lst = []\n",
    "    no_data = []\n",
    "      \n",
    "    for i in date_lst:\n",
    "        params['date'] = i\n",
    "        try:\n",
    "            resp = requests.get(url,params)\n",
    "            resp_py = resp.json() \n",
    "            data = resp_py['items']\n",
    "            for item in data:\n",
    "                for t in time_lst:\n",
    "                    if t == item['timestamp'][10:16]:\n",
    "                        hr_data_lst.append( {'timestamp':item['timestamp'], 'readings':item['readings']} )                       \n",
    "        except:\n",
    "            no_data.append(i)\n",
    "            \n",
    "    print(\"Unsuccessful dates: \", no_data)\n",
    "    print(len(hr_data_lst))\n",
    "    return hr_data_lst"
   ]
  },
  {
   "cell_type": "markdown",
   "metadata": {},
   "source": [
    "## To get all data (not just hourly)"
   ]
  },
  {
   "cell_type": "code",
   "execution_count": 21,
   "metadata": {},
   "outputs": [],
   "source": [
    "def get_all_data(url, date_lst):\n",
    "\n",
    "    hr_data_lst = []\n",
    "    no_data = []\n",
    "      \n",
    "    for i in date_lst:\n",
    "        params['date'] = i\n",
    "        try:\n",
    "            resp = requests.get(url,params)\n",
    "            resp_py = resp.json() \n",
    "            data = resp_py['items']\n",
    "            for item in data:\n",
    "                hr_data_lst.append( {'timestamp':item['timestamp'], 'readings':item['readings']} )                       \n",
    "        except:\n",
    "            no_data.append(i)\n",
    "            \n",
    "    print(\"Unsuccessful dates: \", no_data)\n",
    "    print(len(hr_data_lst))\n",
    "    return hr_data_lst"
   ]
  },
  {
   "cell_type": "markdown",
   "metadata": {},
   "source": [
    "### Clean data into usable format"
   ]
  },
  {
   "cell_type": "code",
   "execution_count": 8,
   "metadata": {},
   "outputs": [],
   "source": [
    "def get_clean_data(hr_data_lst):\n",
    "    data_lst = []\n",
    "    data_reading = []\n",
    "    rec = []\n",
    "    \n",
    "    for i in hr_data_lst:\n",
    "        try:\n",
    "            for j in i['readings']:\n",
    "                data_reading.append( { 'timestamp':i['timestamp'], 'station_id':j['station_id'], label : j['value']} ) \n",
    "            data_lst = data_lst + data_reading\n",
    "            data_reading = []\n",
    "        except:\n",
    "            rec.append(i)\n",
    "    \n",
    "    print(\"Unsuccessful clean data: \", rec)       \n",
    "    return data_lst\n"
   ]
  },
  {
   "cell_type": "markdown",
   "metadata": {},
   "source": [
    "## Enter URL"
   ]
  },
  {
   "cell_type": "code",
   "execution_count": 14,
   "metadata": {},
   "outputs": [
    {
     "name": "stdout",
     "output_type": "stream",
     "text": [
      "Enter url: https://api.data.gov.sg/v1/environment/air-temperature\n",
      "air-temperature\n"
     ]
    }
   ],
   "source": [
    "url = input(\"Enter url: \")\n",
    "\n",
    "params = {}\n",
    "label = url.split('/')[-1]\n",
    "print(label)"
   ]
  },
  {
   "cell_type": "markdown",
   "metadata": {},
   "source": [
    "## Get data in dataframe"
   ]
  },
  {
   "cell_type": "code",
   "execution_count": 28,
   "metadata": {},
   "outputs": [
    {
     "name": "stdout",
     "output_type": "stream",
     "text": [
      "Unsuccessful dates:  []\n",
      "23\n",
      "Unsuccessful clean data:  []\n"
     ]
    }
   ],
   "source": [
    "results = get_clean_data(get_data(url, date_lst_gen(first_date, last_date)))"
   ]
  },
  {
   "cell_type": "markdown",
   "metadata": {},
   "source": [
    "## For all data"
   ]
  },
  {
   "cell_type": "code",
   "execution_count": 27,
   "metadata": {},
   "outputs": [
    {
     "name": "stdout",
     "output_type": "stream",
     "text": [
      "Unsuccessful dates:  []\n",
      "1358\n",
      "Unsuccessful clean data:  []\n"
     ]
    }
   ],
   "source": [
    "results = get_clean_data(get_all_data(url, date_lst_gen(first_date, last_date)))"
   ]
  },
  {
   "cell_type": "code",
   "execution_count": 16,
   "metadata": {},
   "outputs": [],
   "source": [
    "df = pd.DataFrame(results)"
   ]
  },
  {
   "cell_type": "code",
   "execution_count": 17,
   "metadata": {},
   "outputs": [
    {
     "data": {
      "text/html": [
       "<div>\n",
       "<style scoped>\n",
       "    .dataframe tbody tr th:only-of-type {\n",
       "        vertical-align: middle;\n",
       "    }\n",
       "\n",
       "    .dataframe tbody tr th {\n",
       "        vertical-align: top;\n",
       "    }\n",
       "\n",
       "    .dataframe thead th {\n",
       "        text-align: right;\n",
       "    }\n",
       "</style>\n",
       "<table border=\"1\" class=\"dataframe\">\n",
       "  <thead>\n",
       "    <tr style=\"text-align: right;\">\n",
       "      <th></th>\n",
       "      <th>timestamp</th>\n",
       "      <th>station_id</th>\n",
       "      <th>air-temperature</th>\n",
       "    </tr>\n",
       "  </thead>\n",
       "  <tbody>\n",
       "    <tr>\n",
       "      <th>0</th>\n",
       "      <td>2018-01-13T00:01:00+08:00</td>\n",
       "      <td>S109</td>\n",
       "      <td>22.7</td>\n",
       "    </tr>\n",
       "    <tr>\n",
       "      <th>1</th>\n",
       "      <td>2018-01-13T00:01:00+08:00</td>\n",
       "      <td>S117</td>\n",
       "      <td>23.6</td>\n",
       "    </tr>\n",
       "    <tr>\n",
       "      <th>2</th>\n",
       "      <td>2018-01-13T00:01:00+08:00</td>\n",
       "      <td>S50</td>\n",
       "      <td>22.6</td>\n",
       "    </tr>\n",
       "    <tr>\n",
       "      <th>3</th>\n",
       "      <td>2018-01-13T00:01:00+08:00</td>\n",
       "      <td>S107</td>\n",
       "      <td>23.7</td>\n",
       "    </tr>\n",
       "    <tr>\n",
       "      <th>4</th>\n",
       "      <td>2018-01-13T00:01:00+08:00</td>\n",
       "      <td>S43</td>\n",
       "      <td>23.5</td>\n",
       "    </tr>\n",
       "    <tr>\n",
       "      <th>...</th>\n",
       "      <td>...</td>\n",
       "      <td>...</td>\n",
       "      <td>...</td>\n",
       "    </tr>\n",
       "    <tr>\n",
       "      <th>347</th>\n",
       "      <td>2018-01-13T23:01:00+08:00</td>\n",
       "      <td>S60</td>\n",
       "      <td>22.9</td>\n",
       "    </tr>\n",
       "    <tr>\n",
       "      <th>348</th>\n",
       "      <td>2018-01-13T23:01:00+08:00</td>\n",
       "      <td>S115</td>\n",
       "      <td>23.5</td>\n",
       "    </tr>\n",
       "    <tr>\n",
       "      <th>349</th>\n",
       "      <td>2018-01-13T23:01:00+08:00</td>\n",
       "      <td>S24</td>\n",
       "      <td>22.6</td>\n",
       "    </tr>\n",
       "    <tr>\n",
       "      <th>350</th>\n",
       "      <td>2018-01-13T23:01:00+08:00</td>\n",
       "      <td>S116</td>\n",
       "      <td>23.3</td>\n",
       "    </tr>\n",
       "    <tr>\n",
       "      <th>351</th>\n",
       "      <td>2018-01-13T23:01:00+08:00</td>\n",
       "      <td>S104</td>\n",
       "      <td>22.6</td>\n",
       "    </tr>\n",
       "  </tbody>\n",
       "</table>\n",
       "<p>352 rows × 3 columns</p>\n",
       "</div>"
      ],
      "text/plain": [
       "                     timestamp station_id  air-temperature\n",
       "0    2018-01-13T00:01:00+08:00       S109             22.7\n",
       "1    2018-01-13T00:01:00+08:00       S117             23.6\n",
       "2    2018-01-13T00:01:00+08:00        S50             22.6\n",
       "3    2018-01-13T00:01:00+08:00       S107             23.7\n",
       "4    2018-01-13T00:01:00+08:00        S43             23.5\n",
       "..                         ...        ...              ...\n",
       "347  2018-01-13T23:01:00+08:00        S60             22.9\n",
       "348  2018-01-13T23:01:00+08:00       S115             23.5\n",
       "349  2018-01-13T23:01:00+08:00        S24             22.6\n",
       "350  2018-01-13T23:01:00+08:00       S116             23.3\n",
       "351  2018-01-13T23:01:00+08:00       S104             22.6\n",
       "\n",
       "[352 rows x 3 columns]"
      ]
     },
     "execution_count": 17,
     "metadata": {},
     "output_type": "execute_result"
    }
   ],
   "source": [
    "df                                                                               "
   ]
  },
  {
   "cell_type": "code",
   "execution_count": 12,
   "metadata": {},
   "outputs": [
    {
     "name": "stdout",
     "output_type": "stream",
     "text": [
      "Saved!\n"
     ]
    }
   ],
   "source": [
    "#num_days = (last_date - first_date).days +1\n",
    "\n",
    "filename = label + \"_\" + str(first_date) + \"_\" + str(last_date) + \".csv\"\n",
    "df.to_csv(filename)\n",
    "print(\"Saved!\")\n"
   ]
  },
  {
   "cell_type": "markdown",
   "metadata": {},
   "source": [
    "## Get Station data"
   ]
  },
  {
   "cell_type": "code",
   "execution_count": 9,
   "metadata": {},
   "outputs": [],
   "source": [
    "import requests\n",
    "import json\n",
    "import pandas as pd\n",
    "j = date_lst[0]\n",
    "params = {}\n",
    "params['date'] = j\n",
    "resp = requests.get(\"https://api.data.gov.sg/v1/environment/air-temperature\",params)\n",
    "station_py = resp.json()\n",
    "station_data = station_py['metadata']['stations']\n",
    "for i in station_data:\n",
    "    i['long'] = i['location']['longitude']\n",
    "    i['lat'] = i['location']['latitude']\n",
    "    \n",
    "#print(station_data)"
   ]
  },
  {
   "cell_type": "code",
   "execution_count": 10,
   "metadata": {},
   "outputs": [],
   "source": [
    "df_station = pd.DataFrame(station_data)"
   ]
  },
  {
   "cell_type": "code",
   "execution_count": 11,
   "metadata": {},
   "outputs": [
    {
     "data": {
      "text/html": [
       "<div>\n",
       "<style scoped>\n",
       "    .dataframe tbody tr th:only-of-type {\n",
       "        vertical-align: middle;\n",
       "    }\n",
       "\n",
       "    .dataframe tbody tr th {\n",
       "        vertical-align: top;\n",
       "    }\n",
       "\n",
       "    .dataframe thead th {\n",
       "        text-align: right;\n",
       "    }\n",
       "</style>\n",
       "<table border=\"1\" class=\"dataframe\">\n",
       "  <thead>\n",
       "    <tr style=\"text-align: right;\">\n",
       "      <th></th>\n",
       "      <th>id</th>\n",
       "      <th>device_id</th>\n",
       "      <th>name</th>\n",
       "      <th>location</th>\n",
       "      <th>long</th>\n",
       "      <th>lat</th>\n",
       "    </tr>\n",
       "  </thead>\n",
       "  <tbody>\n",
       "    <tr>\n",
       "      <th>0</th>\n",
       "      <td>S109</td>\n",
       "      <td>S109</td>\n",
       "      <td>Ang Mo Kio Avenue 5</td>\n",
       "      <td>{'latitude': 1.3764, 'longitude': 103.8492}</td>\n",
       "      <td>103.84920</td>\n",
       "      <td>1.37640</td>\n",
       "    </tr>\n",
       "    <tr>\n",
       "      <th>1</th>\n",
       "      <td>S117</td>\n",
       "      <td>S117</td>\n",
       "      <td>Banyan Road</td>\n",
       "      <td>{'latitude': 1.256, 'longitude': 103.679}</td>\n",
       "      <td>103.67900</td>\n",
       "      <td>1.25600</td>\n",
       "    </tr>\n",
       "    <tr>\n",
       "      <th>2</th>\n",
       "      <td>S107</td>\n",
       "      <td>S107</td>\n",
       "      <td>East Coast Parkway</td>\n",
       "      <td>{'latitude': 1.3135, 'longitude': 103.9625}</td>\n",
       "      <td>103.96250</td>\n",
       "      <td>1.31350</td>\n",
       "    </tr>\n",
       "    <tr>\n",
       "      <th>3</th>\n",
       "      <td>S43</td>\n",
       "      <td>S43</td>\n",
       "      <td>Kim Chuan Road</td>\n",
       "      <td>{'latitude': 1.3399, 'longitude': 103.8878}</td>\n",
       "      <td>103.88780</td>\n",
       "      <td>1.33990</td>\n",
       "    </tr>\n",
       "    <tr>\n",
       "      <th>4</th>\n",
       "      <td>S108</td>\n",
       "      <td>S108</td>\n",
       "      <td>Marina Gardens Drive</td>\n",
       "      <td>{'latitude': 1.2799, 'longitude': 103.8703}</td>\n",
       "      <td>103.87030</td>\n",
       "      <td>1.27990</td>\n",
       "    </tr>\n",
       "    <tr>\n",
       "      <th>5</th>\n",
       "      <td>S44</td>\n",
       "      <td>S44</td>\n",
       "      <td>Nanyang Avenue</td>\n",
       "      <td>{'latitude': 1.34583, 'longitude': 103.68166}</td>\n",
       "      <td>103.68166</td>\n",
       "      <td>1.34583</td>\n",
       "    </tr>\n",
       "    <tr>\n",
       "      <th>6</th>\n",
       "      <td>S121</td>\n",
       "      <td>S121</td>\n",
       "      <td>Old Choa Chu Kang Road</td>\n",
       "      <td>{'latitude': 1.37288, 'longitude': 103.72244}</td>\n",
       "      <td>103.72244</td>\n",
       "      <td>1.37288</td>\n",
       "    </tr>\n",
       "    <tr>\n",
       "      <th>7</th>\n",
       "      <td>S106</td>\n",
       "      <td>S106</td>\n",
       "      <td>Pulau Ubin</td>\n",
       "      <td>{'latitude': 1.4168, 'longitude': 103.9673}</td>\n",
       "      <td>103.96730</td>\n",
       "      <td>1.41680</td>\n",
       "    </tr>\n",
       "    <tr>\n",
       "      <th>8</th>\n",
       "      <td>S06</td>\n",
       "      <td>S06</td>\n",
       "      <td>S06</td>\n",
       "      <td>{'latitude': 1.3524, 'longitude': 103.9007}</td>\n",
       "      <td>103.90070</td>\n",
       "      <td>1.35240</td>\n",
       "    </tr>\n",
       "    <tr>\n",
       "      <th>9</th>\n",
       "      <td>S102</td>\n",
       "      <td>S102</td>\n",
       "      <td>Semakau Landfill</td>\n",
       "      <td>{'latitude': 1.189, 'longitude': 103.768}</td>\n",
       "      <td>103.76800</td>\n",
       "      <td>1.18900</td>\n",
       "    </tr>\n",
       "    <tr>\n",
       "      <th>10</th>\n",
       "      <td>S122</td>\n",
       "      <td>S122</td>\n",
       "      <td>Sembawang Road</td>\n",
       "      <td>{'latitude': 1.41731, 'longitude': 103.8249}</td>\n",
       "      <td>103.82490</td>\n",
       "      <td>1.41731</td>\n",
       "    </tr>\n",
       "    <tr>\n",
       "      <th>11</th>\n",
       "      <td>S96</td>\n",
       "      <td>S96</td>\n",
       "      <td>Tanah Merah Coast Road</td>\n",
       "      <td>{'latitude': 1.3175, 'longitude': 104.0307}</td>\n",
       "      <td>104.03070</td>\n",
       "      <td>1.31750</td>\n",
       "    </tr>\n",
       "    <tr>\n",
       "      <th>12</th>\n",
       "      <td>S115</td>\n",
       "      <td>S115</td>\n",
       "      <td>Tuas South Avenue 3</td>\n",
       "      <td>{'latitude': 1.29377, 'longitude': 103.61843}</td>\n",
       "      <td>103.61843</td>\n",
       "      <td>1.29377</td>\n",
       "    </tr>\n",
       "    <tr>\n",
       "      <th>13</th>\n",
       "      <td>S24B</td>\n",
       "      <td>S24B</td>\n",
       "      <td>Upper Changi Road North</td>\n",
       "      <td>{'latitude': 1.3678, 'longitude': 103.998}</td>\n",
       "      <td>103.99800</td>\n",
       "      <td>1.36780</td>\n",
       "    </tr>\n",
       "    <tr>\n",
       "      <th>14</th>\n",
       "      <td>S24</td>\n",
       "      <td>S24</td>\n",
       "      <td>Upper Changi Road North</td>\n",
       "      <td>{'latitude': 1.3678, 'longitude': 103.9826}</td>\n",
       "      <td>103.98260</td>\n",
       "      <td>1.36780</td>\n",
       "    </tr>\n",
       "    <tr>\n",
       "      <th>15</th>\n",
       "      <td>S116</td>\n",
       "      <td>S116</td>\n",
       "      <td>West Coast Highway</td>\n",
       "      <td>{'latitude': 1.281, 'longitude': 103.754}</td>\n",
       "      <td>103.75400</td>\n",
       "      <td>1.28100</td>\n",
       "    </tr>\n",
       "    <tr>\n",
       "      <th>16</th>\n",
       "      <td>S104</td>\n",
       "      <td>S104</td>\n",
       "      <td>Woodlands Avenue 9</td>\n",
       "      <td>{'latitude': 1.44387, 'longitude': 103.78538}</td>\n",
       "      <td>103.78538</td>\n",
       "      <td>1.44387</td>\n",
       "    </tr>\n",
       "    <tr>\n",
       "      <th>17</th>\n",
       "      <td>S100</td>\n",
       "      <td>S100</td>\n",
       "      <td>Woodlands Road</td>\n",
       "      <td>{'latitude': 1.4172, 'longitude': 103.74855}</td>\n",
       "      <td>103.74855</td>\n",
       "      <td>1.41720</td>\n",
       "    </tr>\n",
       "    <tr>\n",
       "      <th>18</th>\n",
       "      <td>S60</td>\n",
       "      <td>S60</td>\n",
       "      <td>Sentosa</td>\n",
       "      <td>{'latitude': 1.25, 'longitude': 103.8279}</td>\n",
       "      <td>103.82790</td>\n",
       "      <td>1.25000</td>\n",
       "    </tr>\n",
       "  </tbody>\n",
       "</table>\n",
       "</div>"
      ],
      "text/plain": [
       "      id device_id                     name  \\\n",
       "0   S109      S109      Ang Mo Kio Avenue 5   \n",
       "1   S117      S117              Banyan Road   \n",
       "2   S107      S107       East Coast Parkway   \n",
       "3    S43       S43           Kim Chuan Road   \n",
       "4   S108      S108     Marina Gardens Drive   \n",
       "5    S44       S44           Nanyang Avenue   \n",
       "6   S121      S121   Old Choa Chu Kang Road   \n",
       "7   S106      S106               Pulau Ubin   \n",
       "8    S06       S06                      S06   \n",
       "9   S102      S102         Semakau Landfill   \n",
       "10  S122      S122           Sembawang Road   \n",
       "11   S96       S96   Tanah Merah Coast Road   \n",
       "12  S115      S115      Tuas South Avenue 3   \n",
       "13  S24B      S24B  Upper Changi Road North   \n",
       "14   S24       S24  Upper Changi Road North   \n",
       "15  S116      S116       West Coast Highway   \n",
       "16  S104      S104       Woodlands Avenue 9   \n",
       "17  S100      S100           Woodlands Road   \n",
       "18   S60       S60                  Sentosa   \n",
       "\n",
       "                                         location       long      lat  \n",
       "0     {'latitude': 1.3764, 'longitude': 103.8492}  103.84920  1.37640  \n",
       "1       {'latitude': 1.256, 'longitude': 103.679}  103.67900  1.25600  \n",
       "2     {'latitude': 1.3135, 'longitude': 103.9625}  103.96250  1.31350  \n",
       "3     {'latitude': 1.3399, 'longitude': 103.8878}  103.88780  1.33990  \n",
       "4     {'latitude': 1.2799, 'longitude': 103.8703}  103.87030  1.27990  \n",
       "5   {'latitude': 1.34583, 'longitude': 103.68166}  103.68166  1.34583  \n",
       "6   {'latitude': 1.37288, 'longitude': 103.72244}  103.72244  1.37288  \n",
       "7     {'latitude': 1.4168, 'longitude': 103.9673}  103.96730  1.41680  \n",
       "8     {'latitude': 1.3524, 'longitude': 103.9007}  103.90070  1.35240  \n",
       "9       {'latitude': 1.189, 'longitude': 103.768}  103.76800  1.18900  \n",
       "10   {'latitude': 1.41731, 'longitude': 103.8249}  103.82490  1.41731  \n",
       "11    {'latitude': 1.3175, 'longitude': 104.0307}  104.03070  1.31750  \n",
       "12  {'latitude': 1.29377, 'longitude': 103.61843}  103.61843  1.29377  \n",
       "13     {'latitude': 1.3678, 'longitude': 103.998}  103.99800  1.36780  \n",
       "14    {'latitude': 1.3678, 'longitude': 103.9826}  103.98260  1.36780  \n",
       "15      {'latitude': 1.281, 'longitude': 103.754}  103.75400  1.28100  \n",
       "16  {'latitude': 1.44387, 'longitude': 103.78538}  103.78538  1.44387  \n",
       "17   {'latitude': 1.4172, 'longitude': 103.74855}  103.74855  1.41720  \n",
       "18      {'latitude': 1.25, 'longitude': 103.8279}  103.82790  1.25000  "
      ]
     },
     "execution_count": 11,
     "metadata": {},
     "output_type": "execute_result"
    }
   ],
   "source": [
    "df_station"
   ]
  },
  {
   "cell_type": "code",
   "execution_count": 12,
   "metadata": {},
   "outputs": [],
   "source": [
    "df_station.drop(columns='location', inplace=True)"
   ]
  },
  {
   "cell_type": "code",
   "execution_count": 13,
   "metadata": {},
   "outputs": [
    {
     "data": {
      "text/html": [
       "<div>\n",
       "<style scoped>\n",
       "    .dataframe tbody tr th:only-of-type {\n",
       "        vertical-align: middle;\n",
       "    }\n",
       "\n",
       "    .dataframe tbody tr th {\n",
       "        vertical-align: top;\n",
       "    }\n",
       "\n",
       "    .dataframe thead th {\n",
       "        text-align: right;\n",
       "    }\n",
       "</style>\n",
       "<table border=\"1\" class=\"dataframe\">\n",
       "  <thead>\n",
       "    <tr style=\"text-align: right;\">\n",
       "      <th></th>\n",
       "      <th>id</th>\n",
       "      <th>device_id</th>\n",
       "      <th>name</th>\n",
       "      <th>long</th>\n",
       "      <th>lat</th>\n",
       "    </tr>\n",
       "  </thead>\n",
       "  <tbody>\n",
       "    <tr>\n",
       "      <th>0</th>\n",
       "      <td>S109</td>\n",
       "      <td>S109</td>\n",
       "      <td>Ang Mo Kio Avenue 5</td>\n",
       "      <td>103.84920</td>\n",
       "      <td>1.37640</td>\n",
       "    </tr>\n",
       "    <tr>\n",
       "      <th>1</th>\n",
       "      <td>S117</td>\n",
       "      <td>S117</td>\n",
       "      <td>Banyan Road</td>\n",
       "      <td>103.67900</td>\n",
       "      <td>1.25600</td>\n",
       "    </tr>\n",
       "    <tr>\n",
       "      <th>2</th>\n",
       "      <td>S107</td>\n",
       "      <td>S107</td>\n",
       "      <td>East Coast Parkway</td>\n",
       "      <td>103.96250</td>\n",
       "      <td>1.31350</td>\n",
       "    </tr>\n",
       "    <tr>\n",
       "      <th>3</th>\n",
       "      <td>S43</td>\n",
       "      <td>S43</td>\n",
       "      <td>Kim Chuan Road</td>\n",
       "      <td>103.88780</td>\n",
       "      <td>1.33990</td>\n",
       "    </tr>\n",
       "    <tr>\n",
       "      <th>4</th>\n",
       "      <td>S108</td>\n",
       "      <td>S108</td>\n",
       "      <td>Marina Gardens Drive</td>\n",
       "      <td>103.87030</td>\n",
       "      <td>1.27990</td>\n",
       "    </tr>\n",
       "    <tr>\n",
       "      <th>5</th>\n",
       "      <td>S44</td>\n",
       "      <td>S44</td>\n",
       "      <td>Nanyang Avenue</td>\n",
       "      <td>103.68166</td>\n",
       "      <td>1.34583</td>\n",
       "    </tr>\n",
       "    <tr>\n",
       "      <th>6</th>\n",
       "      <td>S121</td>\n",
       "      <td>S121</td>\n",
       "      <td>Old Choa Chu Kang Road</td>\n",
       "      <td>103.72244</td>\n",
       "      <td>1.37288</td>\n",
       "    </tr>\n",
       "    <tr>\n",
       "      <th>7</th>\n",
       "      <td>S106</td>\n",
       "      <td>S106</td>\n",
       "      <td>Pulau Ubin</td>\n",
       "      <td>103.96730</td>\n",
       "      <td>1.41680</td>\n",
       "    </tr>\n",
       "    <tr>\n",
       "      <th>8</th>\n",
       "      <td>S06</td>\n",
       "      <td>S06</td>\n",
       "      <td>S06</td>\n",
       "      <td>103.90070</td>\n",
       "      <td>1.35240</td>\n",
       "    </tr>\n",
       "    <tr>\n",
       "      <th>9</th>\n",
       "      <td>S102</td>\n",
       "      <td>S102</td>\n",
       "      <td>Semakau Landfill</td>\n",
       "      <td>103.76800</td>\n",
       "      <td>1.18900</td>\n",
       "    </tr>\n",
       "    <tr>\n",
       "      <th>10</th>\n",
       "      <td>S122</td>\n",
       "      <td>S122</td>\n",
       "      <td>Sembawang Road</td>\n",
       "      <td>103.82490</td>\n",
       "      <td>1.41731</td>\n",
       "    </tr>\n",
       "    <tr>\n",
       "      <th>11</th>\n",
       "      <td>S96</td>\n",
       "      <td>S96</td>\n",
       "      <td>Tanah Merah Coast Road</td>\n",
       "      <td>104.03070</td>\n",
       "      <td>1.31750</td>\n",
       "    </tr>\n",
       "    <tr>\n",
       "      <th>12</th>\n",
       "      <td>S115</td>\n",
       "      <td>S115</td>\n",
       "      <td>Tuas South Avenue 3</td>\n",
       "      <td>103.61843</td>\n",
       "      <td>1.29377</td>\n",
       "    </tr>\n",
       "    <tr>\n",
       "      <th>13</th>\n",
       "      <td>S24B</td>\n",
       "      <td>S24B</td>\n",
       "      <td>Upper Changi Road North</td>\n",
       "      <td>103.99800</td>\n",
       "      <td>1.36780</td>\n",
       "    </tr>\n",
       "    <tr>\n",
       "      <th>14</th>\n",
       "      <td>S24</td>\n",
       "      <td>S24</td>\n",
       "      <td>Upper Changi Road North</td>\n",
       "      <td>103.98260</td>\n",
       "      <td>1.36780</td>\n",
       "    </tr>\n",
       "    <tr>\n",
       "      <th>15</th>\n",
       "      <td>S116</td>\n",
       "      <td>S116</td>\n",
       "      <td>West Coast Highway</td>\n",
       "      <td>103.75400</td>\n",
       "      <td>1.28100</td>\n",
       "    </tr>\n",
       "    <tr>\n",
       "      <th>16</th>\n",
       "      <td>S104</td>\n",
       "      <td>S104</td>\n",
       "      <td>Woodlands Avenue 9</td>\n",
       "      <td>103.78538</td>\n",
       "      <td>1.44387</td>\n",
       "    </tr>\n",
       "    <tr>\n",
       "      <th>17</th>\n",
       "      <td>S100</td>\n",
       "      <td>S100</td>\n",
       "      <td>Woodlands Road</td>\n",
       "      <td>103.74855</td>\n",
       "      <td>1.41720</td>\n",
       "    </tr>\n",
       "    <tr>\n",
       "      <th>18</th>\n",
       "      <td>S60</td>\n",
       "      <td>S60</td>\n",
       "      <td>Sentosa</td>\n",
       "      <td>103.82790</td>\n",
       "      <td>1.25000</td>\n",
       "    </tr>\n",
       "  </tbody>\n",
       "</table>\n",
       "</div>"
      ],
      "text/plain": [
       "      id device_id                     name       long      lat\n",
       "0   S109      S109      Ang Mo Kio Avenue 5  103.84920  1.37640\n",
       "1   S117      S117              Banyan Road  103.67900  1.25600\n",
       "2   S107      S107       East Coast Parkway  103.96250  1.31350\n",
       "3    S43       S43           Kim Chuan Road  103.88780  1.33990\n",
       "4   S108      S108     Marina Gardens Drive  103.87030  1.27990\n",
       "5    S44       S44           Nanyang Avenue  103.68166  1.34583\n",
       "6   S121      S121   Old Choa Chu Kang Road  103.72244  1.37288\n",
       "7   S106      S106               Pulau Ubin  103.96730  1.41680\n",
       "8    S06       S06                      S06  103.90070  1.35240\n",
       "9   S102      S102         Semakau Landfill  103.76800  1.18900\n",
       "10  S122      S122           Sembawang Road  103.82490  1.41731\n",
       "11   S96       S96   Tanah Merah Coast Road  104.03070  1.31750\n",
       "12  S115      S115      Tuas South Avenue 3  103.61843  1.29377\n",
       "13  S24B      S24B  Upper Changi Road North  103.99800  1.36780\n",
       "14   S24       S24  Upper Changi Road North  103.98260  1.36780\n",
       "15  S116      S116       West Coast Highway  103.75400  1.28100\n",
       "16  S104      S104       Woodlands Avenue 9  103.78538  1.44387\n",
       "17  S100      S100           Woodlands Road  103.74855  1.41720\n",
       "18   S60       S60                  Sentosa  103.82790  1.25000"
      ]
     },
     "execution_count": 13,
     "metadata": {},
     "output_type": "execute_result"
    }
   ],
   "source": [
    "df_station"
   ]
  },
  {
   "cell_type": "code",
   "execution_count": null,
   "metadata": {},
   "outputs": [],
   "source": [
    "df_station.to_csv(\"weather_station.csv\")"
   ]
  }
 ],
 "metadata": {
  "kernelspec": {
   "display_name": "Python 3",
   "language": "python",
   "name": "python3"
  },
  "language_info": {
   "codemirror_mode": {
    "name": "ipython",
    "version": 3
   },
   "file_extension": ".py",
   "mimetype": "text/x-python",
   "name": "python",
   "nbconvert_exporter": "python",
   "pygments_lexer": "ipython3",
   "version": "3.8.5"
  }
 },
 "nbformat": 4,
 "nbformat_minor": 4
}
